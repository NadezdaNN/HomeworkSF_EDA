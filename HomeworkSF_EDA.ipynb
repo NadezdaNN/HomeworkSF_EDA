{
 "cells": [
  {
   "attachments": {},
   "cell_type": "markdown",
   "metadata": {},
   "source": [
    "# <center> HomeworkSF:  проверка данных на нормальность и на наличие корреляции"
   ]
  },
  {
   "cell_type": "code",
   "execution_count": 40,
   "metadata": {},
   "outputs": [],
   "source": [
    "import pandas as pd\n",
    "from scipy.stats import shapiro\n",
    "from scipy.stats import ttest_ind\n",
    "from scipy.stats import pearsonr\n",
    "import numpy as np"
   ]
  },
  {
   "attachments": {},
   "cell_type": "markdown",
   "metadata": {},
   "source": [
    "Информация по мидиям Петербурга и Магадана, представлена в виде двух массивов petersburg и magadan:"
   ]
  },
  {
   "cell_type": "code",
   "execution_count": 41,
   "metadata": {},
   "outputs": [],
   "source": [
    "petersburg = [0.0974, 0.1352, 0.0817, 0.1016, 0.0968, 0.1064, 0.105]\n",
    "magadan = [0.1033, 0.0915, 0.0781, 0.0685, 0.0677, 0.0697, 0.0764, 0.0689]"
   ]
  },
  {
   "attachments": {},
   "cell_type": "markdown",
   "metadata": {},
   "source": [
    "1. Объединяем два массива petersburg и magadan в один DataFrame"
   ]
  },
  {
   "cell_type": "code",
   "execution_count": 42,
   "metadata": {},
   "outputs": [
    {
     "data": {
      "text/html": [
       "<div>\n",
       "<style scoped>\n",
       "    .dataframe tbody tr th:only-of-type {\n",
       "        vertical-align: middle;\n",
       "    }\n",
       "\n",
       "    .dataframe tbody tr th {\n",
       "        vertical-align: top;\n",
       "    }\n",
       "\n",
       "    .dataframe thead th {\n",
       "        text-align: right;\n",
       "    }\n",
       "</style>\n",
       "<table border=\"1\" class=\"dataframe\">\n",
       "  <thead>\n",
       "    <tr style=\"text-align: right;\">\n",
       "      <th></th>\n",
       "      <th>petersburg</th>\n",
       "      <th>magadan</th>\n",
       "    </tr>\n",
       "  </thead>\n",
       "  <tbody>\n",
       "    <tr>\n",
       "      <th>0</th>\n",
       "      <td>0.0974</td>\n",
       "      <td>0.1033</td>\n",
       "    </tr>\n",
       "    <tr>\n",
       "      <th>1</th>\n",
       "      <td>0.1352</td>\n",
       "      <td>0.0915</td>\n",
       "    </tr>\n",
       "    <tr>\n",
       "      <th>2</th>\n",
       "      <td>0.0817</td>\n",
       "      <td>0.0781</td>\n",
       "    </tr>\n",
       "    <tr>\n",
       "      <th>3</th>\n",
       "      <td>0.1016</td>\n",
       "      <td>0.0685</td>\n",
       "    </tr>\n",
       "    <tr>\n",
       "      <th>4</th>\n",
       "      <td>0.0968</td>\n",
       "      <td>0.0677</td>\n",
       "    </tr>\n",
       "    <tr>\n",
       "      <th>5</th>\n",
       "      <td>0.1064</td>\n",
       "      <td>0.0697</td>\n",
       "    </tr>\n",
       "    <tr>\n",
       "      <th>6</th>\n",
       "      <td>0.1050</td>\n",
       "      <td>0.0764</td>\n",
       "    </tr>\n",
       "    <tr>\n",
       "      <th>7</th>\n",
       "      <td>NaN</td>\n",
       "      <td>0.0689</td>\n",
       "    </tr>\n",
       "  </tbody>\n",
       "</table>\n",
       "</div>"
      ],
      "text/plain": [
       "   petersburg  magadan\n",
       "0      0.0974   0.1033\n",
       "1      0.1352   0.0915\n",
       "2      0.0817   0.0781\n",
       "3      0.1016   0.0685\n",
       "4      0.0968   0.0677\n",
       "5      0.1064   0.0697\n",
       "6      0.1050   0.0764\n",
       "7         NaN   0.0689"
      ]
     },
     "metadata": {},
     "output_type": "display_data"
    }
   ],
   "source": [
    "df_p = pd.DataFrame(petersburg, columns=['petersburg'])\n",
    "#display(df_p)\n",
    "df_m = pd.DataFrame(magadan, columns=['magadan'])\n",
    "#display(df_m)\n",
    "data = pd.concat([df_p, df_m], axis=1)\n",
    "display(data)"
   ]
  },
  {
   "attachments": {},
   "cell_type": "markdown",
   "metadata": {},
   "source": [
    "2. Проверка данных на нормальность. Применим тест Шапиро-Уилка"
   ]
  },
  {
   "cell_type": "code",
   "execution_count": 43,
   "metadata": {},
   "outputs": [
    {
     "name": "stdout",
     "output_type": "stream",
     "text": [
      "Для выборки \"petersburg\": p=1.000\n",
      "Данные распределены нормально\n",
      "\n",
      "Для выборки \"magadan\": p=0.036\n",
      "Данные не распределены нормально (мы отвергаем H0)\n"
     ]
    }
   ],
   "source": [
    "H0 = 'Данные распределены нормально'\n",
    "Ha = 'Данные не распределены нормально (мы отвергаем H0)'\n",
    "\n",
    "alpha = 0.05 # уровень значимости\n",
    "\n",
    "_, p = shapiro(data[['petersburg']])\n",
    "print('Для выборки \"petersburg\": p=%.3f' % p)\n",
    "\n",
    "if p > alpha:\n",
    "\tprint(H0)\n",
    "else:\n",
    "\tprint(Ha)\n",
    "\n",
    "_, p = shapiro(data[['magadan']])\n",
    "print('\\nДля выборки \"magadan\": p=%.3f' % p)\n",
    "\n",
    "if p > alpha:\n",
    "\tprint(H0)\n",
    "else:\n",
    "\tprint(Ha)"
   ]
  },
  {
   "attachments": {},
   "cell_type": "markdown",
   "metadata": {},
   "source": [
    "3. Проводим тест на корреляцию"
   ]
  },
  {
   "cell_type": "code",
   "execution_count": 44,
   "metadata": {},
   "outputs": [
    {
     "data": {
      "text/html": [
       "<div>\n",
       "<style scoped>\n",
       "    .dataframe tbody tr th:only-of-type {\n",
       "        vertical-align: middle;\n",
       "    }\n",
       "\n",
       "    .dataframe tbody tr th {\n",
       "        vertical-align: top;\n",
       "    }\n",
       "\n",
       "    .dataframe thead th {\n",
       "        text-align: right;\n",
       "    }\n",
       "</style>\n",
       "<table border=\"1\" class=\"dataframe\">\n",
       "  <thead>\n",
       "    <tr style=\"text-align: right;\">\n",
       "      <th></th>\n",
       "      <th>petersburg</th>\n",
       "      <th>magadan</th>\n",
       "    </tr>\n",
       "  </thead>\n",
       "  <tbody>\n",
       "    <tr>\n",
       "      <th>petersburg</th>\n",
       "      <td>1.000000</td>\n",
       "      <td>0.255095</td>\n",
       "    </tr>\n",
       "    <tr>\n",
       "      <th>magadan</th>\n",
       "      <td>0.255095</td>\n",
       "      <td>1.000000</td>\n",
       "    </tr>\n",
       "  </tbody>\n",
       "</table>\n",
       "</div>"
      ],
      "text/plain": [
       "            petersburg   magadan\n",
       "petersburg    1.000000  0.255095\n",
       "magadan       0.255095  1.000000"
      ]
     },
     "execution_count": 44,
     "metadata": {},
     "output_type": "execute_result"
    }
   ],
   "source": [
    "data.corr()"
   ]
  },
  {
   "attachments": {},
   "cell_type": "markdown",
   "metadata": {},
   "source": [
    "Коэффициент корреляции равен 0.25, что говорит нам об отсутствии связи или очень слабой связи между признаками. Для теста на корреляцию выбираем корреляцию Пирсона т.к. признаки являются непрерывными и один из них нормально распределен."
   ]
  },
  {
   "cell_type": "code",
   "execution_count": 45,
   "metadata": {},
   "outputs": [
    {
     "name": "stdout",
     "output_type": "stream",
     "text": [
      "0.2605889468556447 0.6179644343046113\n",
      "0.6179644343046113 > 0.05. Мы не можем отвергнуть нулевую гипотезу об отсутсвии зависимости между переменными:  Нет значимой разницы между средним размером раковины мидий из Петербурга и Магадана\n"
     ]
    }
   ],
   "source": [
    "H0 = 'Нет значимой разницы между средним размером раковины мидий из Петербурга и Магадана'\n",
    "Ha = 'Есть значимая разница между средним размером раковины мидий из Петербурга и Магадана'\n",
    "\n",
    "corr, p = pearsonr(petersburg[0:6], magadan[0:6])\n",
    "corr, p = pearsonr(petersburg[0:6], magadan[0:6])\n",
    "print(corr,p)\n",
    "\n",
    "'''from scipy.stats import spearmanr\n",
    "corr, p = spearmanr(petersburg[0:6], magadan[0:6])\n",
    "print(corr,p)\n",
    "\n",
    "from scipy.stats import f_oneway\n",
    "corr, p = f_oneway(petersburg, magadan)'''\n",
    "\n",
    "if p>alpha:\n",
    "    print(f\"{p} > {alpha}. Мы не можем отвергнуть нулевую гипотезу об отсутсвии зависимости между переменными: \", H0)\n",
    "else:\n",
    "    print(f\"{p} <= {alpha}. Мы отвергаем нулевую гипотезу об отсутсвии зависимости между переменными: {Ha}\")"
   ]
  },
  {
   "attachments": {},
   "cell_type": "markdown",
   "metadata": {},
   "source": [
    "Вывод. Согласно поученным результатам теста на корреляцию, мы можем сказать, что данные из Петербурга и Магадана не коррелируют между собой/связь отсутствует. Этот же вывод мы можем сделать на основании полученного значения коэффициента корреляции Пирсона (corr = 0.25 - слабая связь)."
   ]
  },
  {
   "attachments": {},
   "cell_type": "markdown",
   "metadata": {},
   "source": [
    "4. Проведём тест на сравнение выборок и определим разницу в среднем размере мидии в зависимости от города-производителя"
   ]
  },
  {
   "cell_type": "code",
   "execution_count": 46,
   "metadata": {},
   "outputs": [],
   "source": [
    "H0 = 'Нет значимой разницы между средним размером раковины мидий, выращенных в Петербурге и в Магадане'\n",
    "Ha = 'Есть значимая разница между средним размером раковины мидий, выращенных в Петербурге и в Магадане'"
   ]
  },
  {
   "attachments": {},
   "cell_type": "markdown",
   "metadata": {},
   "source": [
    "Зависимая переменная (средний размер раковины мидии) является количественной. Группы происходят из разных совокупностей. Будем использовать независимый T-тест."
   ]
  },
  {
   "cell_type": "code",
   "execution_count": 47,
   "metadata": {},
   "outputs": [
    {
     "name": "stdout",
     "output_type": "stream",
     "text": [
      "\n",
      "*** Результаты независимого T-теста ***\n",
      "Ttest_indResult(statistic=3.0350285894495013, pvalue=0.010369233123633553)\n",
      "0.01 <= 0.05. Мы отвергаем нулевую гипотезу: Есть значимая разница между средним размером раковины мидий, выращенных в Петербурге и в Магадане\n"
     ]
    }
   ],
   "source": [
    "def t_test(df):    \n",
    "    l=df.shape[0]    \n",
    "    print('\\n' + \"*** Результаты независимого T-теста ***\")\n",
    "    test_results = ttest_ind(df['petersburg'][0:l-1], df['magadan'][0:l-1], equal_var=True)\n",
    "    print(test_results)\n",
    "    p = round(test_results[1],2)\n",
    "\n",
    "    if p>alpha:\n",
    "        print(f\"{p} > {alpha}. Мы не можем отвергнуть нулевую гипотезу: {H0}\")\n",
    "    else:\n",
    "        print(f\"{p} <= {alpha}. Мы отвергаем нулевую гипотезу: {Ha}\")\n",
    "\n",
    "t_test(data)"
   ]
  },
  {
   "cell_type": "code",
   "execution_count": 48,
   "metadata": {},
   "outputs": [
    {
     "name": "stdout",
     "output_type": "stream",
     "text": [
      "Разница между средним размером раковины мидий из Петербурга и Магадана составляет: 0.025\n"
     ]
    }
   ],
   "source": [
    "# print(data['petersburg'].mean(), data['magadan'].mean())\n",
    "r = np.abs((data['petersburg'].mean()-data['magadan'].mean()))\n",
    "print(\"Разница между средним размером раковины мидий из Петербурга и Магадана составляет:\", round(r,3))"
   ]
  },
  {
   "attachments": {},
   "cell_type": "markdown",
   "metadata": {},
   "source": [
    "Вывод. Согласно Т-тесту на сравнение выборок, наблюдается значимая разница между средним размером раковины мидий из разных городов-производителей, которая составляет 0.025. "
   ]
  }
 ],
 "metadata": {
  "kernelspec": {
   "display_name": "base",
   "language": "python",
   "name": "python3"
  },
  "language_info": {
   "codemirror_mode": {
    "name": "ipython",
    "version": 3
   },
   "file_extension": ".py",
   "mimetype": "text/x-python",
   "name": "python",
   "nbconvert_exporter": "python",
   "pygments_lexer": "ipython3",
   "version": "3.9.13"
  },
  "orig_nbformat": 4
 },
 "nbformat": 4,
 "nbformat_minor": 2
}
